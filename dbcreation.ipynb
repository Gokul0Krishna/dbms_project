{
 "cells": [
  {
   "cell_type": "code",
   "execution_count": null,
   "id": "13048061",
   "metadata": {},
   "outputs": [],
   "source": [
    "import sqlite3\n",
    "conn = sqlite3.connect('mydatabase.db')\n",
    "cursor = conn.cursor()\n",
    "# edu=enduser/table structure\n",
    "edutable=\"\"\" CREATE TABLE user (\n",
    "            Userid VARCHAR(255) NOT NULL PRIMARY KEY,\n",
    "            First_Name CHAR(25) NOT NULL,\n",
    "            Last_Name CHAR(25),\n",
    "            Status INTEGER(25),\n",
    "            Email VARCHAR(255),\n",
    "            Password VARCHAR(255) NOT NULL,\n",
    "            Fine INT\n",
    "            ); \"\"\"\n",
    "\n",
    "#creates the table\n",
    "cursor.execute(edutable)\n",
    "cursor.close()\n",
    "conn.close()"
   ]
  },
  {
   "cell_type": "code",
   "execution_count": 1,
   "id": "63525b01",
   "metadata": {},
   "outputs": [],
   "source": [
    "import sqlite3\n",
    "conn = sqlite3.connect('mydatabase.db')\n",
    "cursor = conn.cursor()\n",
    "cursor.execute(\"DROP TABLE user\")\n",
    "conn.close()"
   ]
  },
  {
   "cell_type": "code",
   "execution_count": 20,
   "id": "ac7758d2",
   "metadata": {},
   "outputs": [],
   "source": [
    "import requests\n",
    "\n",
    "response = requests.get(\"https://openlibrary.org/search.json?q=*&sort=rating&limit=100\")\n",
    "data = response.json()"
   ]
  },
  {
   "cell_type": "code",
   "execution_count": 44,
   "id": "bc257fe5",
   "metadata": {},
   "outputs": [],
   "source": [
    "import sqlite3\n",
    "conn = sqlite3.connect('mydatabase.db')\n",
    "cursor = conn.cursor()\n",
    "cursor.execute(\"DROP TABLE book\")\n",
    "conn.close()"
   ]
  },
  {
   "cell_type": "code",
   "execution_count": 45,
   "id": "28c2c1c9",
   "metadata": {},
   "outputs": [],
   "source": [
    "import sqlite3\n",
    "conn = sqlite3.connect('mydatabase.db')\n",
    "cursor = conn.cursor()\n",
    "bktable=\"\"\" CREATE TABLE book (\n",
    "            Bookid VARCHAR(255) NOT NULL PRIMARY KEY,\n",
    "            Title CHAR(25) NOT NULL,\n",
    "            Author CHAR(25),\n",
    "            Status INTEGER(25),\n",
    "            Description TEXT,\n",
    "            Date TEXT\n",
    "            ); \"\"\"\n",
    "\n",
    "#creates the table\n",
    "cursor.execute(bktable)\n",
    "conn.close()"
   ]
  },
  {
   "cell_type": "code",
   "execution_count": null,
   "id": "5bb6db89",
   "metadata": {},
   "outputs": [
    {
     "ename": "KeyError",
     "evalue": "'description'",
     "output_type": "error",
     "traceback": [
      "\u001b[1;31m---------------------------------------------------------------------------\u001b[0m",
      "\u001b[1;31mKeyError\u001b[0m                                  Traceback (most recent call last)",
      "Cell \u001b[1;32mIn[46], line 24\u001b[0m\n\u001b[0;32m     15\u001b[0m data3\u001b[38;5;241m=\u001b[39mdata2[\u001b[38;5;124m'\u001b[39m\u001b[38;5;124mitems\u001b[39m\u001b[38;5;124m'\u001b[39m][\u001b[38;5;241m0\u001b[39m][\u001b[38;5;124m'\u001b[39m\u001b[38;5;124mvolumeInfo\u001b[39m\u001b[38;5;124m'\u001b[39m]\n\u001b[0;32m     16\u001b[0m query \u001b[38;5;241m=\u001b[39m \u001b[38;5;124mf\u001b[39m\u001b[38;5;124m\"\"\"\u001b[39m\u001b[38;5;124mINSERT INTO book \u001b[39m\n\u001b[0;32m     17\u001b[0m \u001b[38;5;124m            (Bookid, Title, Author, Status, Description, Date) \u001b[39m\n\u001b[0;32m     18\u001b[0m \u001b[38;5;124m            VALUES (?, ?, ?, ?, ?, ?)\u001b[39m\u001b[38;5;124m\"\"\"\u001b[39m\n\u001b[0;32m     19\u001b[0m values \u001b[38;5;241m=\u001b[39m (\n\u001b[0;32m     20\u001b[0m \u001b[38;5;124mf\u001b[39m\u001b[38;5;124m'\u001b[39m\u001b[38;5;124mB\u001b[39m\u001b[38;5;132;01m{\u001b[39;00mj\u001b[38;5;132;01m}\u001b[39;00m\u001b[38;5;124m'\u001b[39m, \n\u001b[0;32m     21\u001b[0m i[\u001b[38;5;124m\"\u001b[39m\u001b[38;5;124mtitle\u001b[39m\u001b[38;5;124m\"\u001b[39m], \n\u001b[0;32m     22\u001b[0m data3[\u001b[38;5;124m'\u001b[39m\u001b[38;5;124mauthors\u001b[39m\u001b[38;5;124m'\u001b[39m][\u001b[38;5;241m0\u001b[39m], \n\u001b[0;32m     23\u001b[0m \u001b[38;5;241m0\u001b[39m, \n\u001b[1;32m---> 24\u001b[0m data3[\u001b[38;5;124m'\u001b[39m\u001b[38;5;124mdescription\u001b[39m\u001b[38;5;124m'\u001b[39m],\n\u001b[0;32m     25\u001b[0m data3[\u001b[38;5;124m'\u001b[39m\u001b[38;5;124mpublishedDate\u001b[39m\u001b[38;5;124m'\u001b[39m],\n\u001b[0;32m     26\u001b[0m )\n\u001b[0;32m     27\u001b[0m cursor\u001b[38;5;241m.\u001b[39mexecute(query, values)\n\u001b[0;32m     28\u001b[0m conn\u001b[38;5;241m.\u001b[39mcommit()\n",
      "\u001b[1;31mKeyError\u001b[0m: 'description'"
     ]
    }
   ],
   "source": [
    "import requests\n",
    "import sqlite3\n",
    "from dotenv import load_dotenv\n",
    "import os\n",
    "APIKEY = os.getenv(\"API_KEY\")\n",
    "\n",
    "conn = sqlite3.connect('mydatabase.db')\n",
    "cursor = conn.cursor()\n",
    "\n",
    "j=0\n",
    "for  i in data[\"docs\"]:\n",
    "    params = {\n",
    "        \"q\": i[\"title\"], \n",
    "        \"key\":APIKEY,\n",
    "    }\n",
    "    response = requests.get(\"https://www.googleapis.com/books/v1/volumes\",params=params)\n",
    "    response.raise_for_status()\n",
    "    data2 = response.json()\n",
    "    data3=data2['items'][0]['volumeInfo']\n",
    "    query = f\"\"\"INSERT INTO book \n",
    "                (Bookid, Title, Author, Status, Description, Date) \n",
    "                VALUES (?, ?, ?, ?, ?, ?)\"\"\"\n",
    "    values = (\n",
    "    f'B{j}', \n",
    "    i[\"title\"], \n",
    "    data3['authors'][0], \n",
    "    0, \n",
    "    data3['description'],\n",
    "    data3['publishedDate'],\n",
    "    )\n",
    "    cursor.execute(query, values)\n",
    "    conn.commit()\n",
    "    j=j+1\n",
    "conn.close()\n",
    "    "
   ]
  },
  {
   "cell_type": "code",
   "execution_count": null,
   "id": "520710e8",
   "metadata": {},
   "outputs": [],
   "source": [
    "import sqlite3\n",
    "conn = sqlite3.connect('mydatabase.db')\n",
    "cursor = conn.cursor()\n",
    "btable = \"\"\"\n",
    "CREATE TABLE IF NOT EXISTS borrow (\n",
    "    BorrowID INTEGER PRIMARY KEY AUTOINCREMENT,\n",
    "    UserID VARCHAR(255) NOT NULL,\n",
    "    BookID VARCHAR(255) NOT NULL,\n",
    "    BorrowDate TEXT NOT NULL DEFAULT CURRENT_DATE,\n",
    "    DueDate TEXT NOT NULL,\n",
    "    FOREIGN KEY (UserID) REFERENCES user(UserID) ON DELETE CASCADE,\n",
    "    FOREIGN KEY (BookID) REFERENCES book(BookID) ON DELETE CASCADE\n",
    ");\n",
    "\"\"\"\n",
    "cursor.execute(btable)\n",
    "conn.close()"
   ]
  },
  {
   "cell_type": "code",
   "execution_count": 11,
   "id": "35267223",
   "metadata": {},
   "outputs": [],
   "source": [
    "import sqlite3\n",
    "conn = sqlite3.connect('mydatabase.db')\n",
    "cursor = conn.cursor()\n",
    "cursor.execute(\"DROP TABLE borrowing\")\n",
    "conn.close()"
   ]
  },
  {
   "cell_type": "code",
   "execution_count": 19,
   "id": "84feccbe",
   "metadata": {},
   "outputs": [
    {
     "name": "stdout",
     "output_type": "stream",
     "text": [
      "2025-05-18\n"
     ]
    },
    {
     "data": {
      "text/plain": [
       "25"
      ]
     },
     "execution_count": 19,
     "metadata": {},
     "output_type": "execute_result"
    }
   ],
   "source": [
    "from datetime import date\n",
    "today = date.today()\n",
    "print(today)\n",
    "mon=today.month\n",
    "pas=today.day\n",
    "pas=pas+7\n",
    "if(mon%2==0):\n",
    "    if(pas>31):\n",
    "        pas=pas-31\n",
    "    else:\n",
    "        pas=pas-30\n",
    "pas"
   ]
  },
  {
   "cell_type": "code",
   "execution_count": null,
   "id": "759dcc54",
   "metadata": {},
   "outputs": [],
   "source": []
  }
 ],
 "metadata": {
  "kernelspec": {
   "display_name": "base",
   "language": "python",
   "name": "python3"
  },
  "language_info": {
   "codemirror_mode": {
    "name": "ipython",
    "version": 3
   },
   "file_extension": ".py",
   "mimetype": "text/x-python",
   "name": "python",
   "nbconvert_exporter": "python",
   "pygments_lexer": "ipython3",
   "version": "3.12.7"
  }
 },
 "nbformat": 4,
 "nbformat_minor": 5
}
