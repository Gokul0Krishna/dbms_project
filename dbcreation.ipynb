{
 "cells": [
  {
   "cell_type": "code",
   "execution_count": null,
   "id": "e4a57610",
   "metadata": {},
   "outputs": [],
   "source": [
    "from contextlib import contextmanager\n",
    "import sqlite3\n",
    "import threading\n",
    "@contextmanager\n",
    "def get_connection(self):\n",
    "    \"\"\"Safe connection handler with automatic cleanup\"\"\"\n",
    "    conn = None\n",
    "    try:\n",
    "        conn = sqlite3.connect('mydatabase.db', timeout=10)\n",
    "        conn.execute(\"PRAGMA busy_timeout = 5000\")  # 5 second timeout\n",
    "        yield conn\n",
    "    except sqlite3.Error as e:\n",
    "        print(f\"Database error: {e}\")\n",
    "        raise\n",
    "    finally:\n",
    "        if conn:\n",
    "            conn.close()"
   ]
  },
  {
   "cell_type": "code",
   "execution_count": 3,
   "id": "13048061",
   "metadata": {},
   "outputs": [],
   "source": [
    "import sqlite3\n",
    "conn = sqlite3.connect('mydatabase.db')\n",
    "cursor = conn.cursor()\n",
    "# edu=enduser/table structure\n",
    "edutable=\"\"\" CREATE TABLE user (\n",
    "            Userid INTEGER(25) NOT NULL PRIMARY KEY,\n",
    "            First_Name CHAR(25) NOT NULL,\n",
    "            Last_Name CHAR(25),\n",
    "            Status INTEGER(25),\n",
    "            Email VARCHAR(255),\n",
    "            Password VARCHAR(255) NOT NULL\n",
    "            ); \"\"\"\n",
    "\n",
    "#creates the table\n",
    "cursor.execute(edutable)\n",
    "cursor.close()\n",
    "conn.close()"
   ]
  },
  {
   "cell_type": "code",
   "execution_count": 1,
   "id": "63525b01",
   "metadata": {},
   "outputs": [],
   "source": [
    "import sqlite3\n",
    "conn = sqlite3.connect('mydatabase.db')\n",
    "cursor = conn.cursor()\n",
    "cursor.execute(\"DROP TABLE user\")\n",
    "conn.close()"
   ]
  },
  {
   "cell_type": "code",
   "execution_count": 3,
   "id": "ac7758d2",
   "metadata": {},
   "outputs": [],
   "source": [
    "import requests\n",
    "\n",
    "response = requests.get(\"https://openlibrary.org/search.json?q=*&sort=rating&limit=100\")\n",
    "data = response.json()"
   ]
  },
  {
   "cell_type": "code",
   "execution_count": 4,
   "id": "bc257fe5",
   "metadata": {},
   "outputs": [],
   "source": [
    "import sqlite3\n",
    "conn = sqlite3.connect('mydatabase.db')\n",
    "cursor = conn.cursor()\n",
    "cursor.execute(\"DROP TABLE book\")\n",
    "conn.close()"
   ]
  },
  {
   "cell_type": "code",
   "execution_count": 6,
   "id": "28c2c1c9",
   "metadata": {},
   "outputs": [],
   "source": [
    "import sqlite3\n",
    "conn = sqlite3.connect('mydatabase.db')\n",
    "cursor = conn.cursor()\n",
    "bktable=\"\"\" CREATE TABLE book (\n",
    "            Bookid VARCHAR(255) NOT NULL PRIMARY KEY,\n",
    "            Title CHAR(25) NOT NULL,\n",
    "            Author CHAR(25),\n",
    "            Status INTEGER(25),\n",
    "            Description TEXT,\n",
    "            Date TEXT,\n",
    "            Img TEXT,\n",
    "            Fine INT\n",
    "            ); \"\"\"\n",
    "\n",
    "#creates the table\n",
    "cursor.execute(bktable)\n",
    "conn.close()"
   ]
  },
  {
   "cell_type": "code",
   "execution_count": null,
   "id": "25d03663",
   "metadata": {},
   "outputs": [],
   "source": [
    "import os\n",
    "APIKEY = os.getenv(\"API_KEY\")\n",
    "params = {\n",
    "        \"q\":data[\"docs\"][0]['title'], \n",
    "        \"key\":APIKEY,\n",
    "    }\n",
    "response = requests.get(\"https://www.googleapis.com/books/v1/volumes\",params=params)\n",
    "response.raise_for_status()\n",
    "data2 = response.json()\n"
   ]
  },
  {
   "cell_type": "code",
   "execution_count": 12,
   "id": "2eac1a05",
   "metadata": {},
   "outputs": [
    {
     "data": {
      "text/plain": [
       "'http://books.google.com/books/content?id=06ydBAAAQBAJ&printsec=frontcover&img=1&zoom=1&edge=curl&source=gbs_api'"
      ]
     },
     "execution_count": 12,
     "metadata": {},
     "output_type": "execute_result"
    }
   ],
   "source": [
    "data2['items'][0]['volumeInfo']['imageLinks']['thumbnail']"
   ]
  },
  {
   "cell_type": "code",
   "execution_count": null,
   "id": "5bb6db89",
   "metadata": {},
   "outputs": [],
   "source": [
    "import requests\n",
    "import sqlite3\n",
    "from dotenv import load_dotenv\n",
    "import os\n",
    "import requests\n",
    "\n",
    "response = requests.get(\"https://openlibrary.org/search.json?q=*&sort=rating&limit=100\")\n",
    "data = response.json()\n",
    "APIKEY = os.getenv(\"API_KEY\")\n",
    "\n",
    "conn = sqlite3.connect('mydatabase.db')\n",
    "cursor = conn.cursor()\n",
    "\n",
    "j=0\n",
    "for  i in data[\"docs\"]:\n",
    "    params = {\n",
    "        \"q\": i[\"title\"], \n",
    "        \"key\":APIKEY,\n",
    "    }\n",
    "    try:\n",
    "        response = requests.get(\"https://www.googleapis.com/books/v1/volumes\",params=params)\n",
    "        response.raise_for_status()\n",
    "        data2 = response.json()\n",
    "        data3=data2['items'][0]['volumeInfo']\n",
    "        query = f\"\"\"INSERT INTO book \n",
    "                    (Bookid, Title, Author, Status, Description, Date,Img,Fine) \n",
    "                    VALUES (?, ?, ?, ?, ?, ?, ?, ?)\"\"\"\n",
    "        values = (\n",
    "        f'B{j}', \n",
    "        i[\"title\"], \n",
    "        data3['authors'][0], \n",
    "        0, \n",
    "        data3['description'],\n",
    "        data3['publishedDate'],\n",
    "        data3['imageLinks']['thumbnail'],\n",
    "        0\n",
    "        )\n",
    "        cursor.execute(query, values)\n",
    "        conn.commit()\n",
    "        j=j+1\n",
    "    except:\n",
    "        pass\n",
    "conn.close()\n",
    "    "
   ]
  },
  {
   "cell_type": "code",
   "execution_count": 15,
   "id": "520710e8",
   "metadata": {},
   "outputs": [],
   "source": [
    "import sqlite3\n",
    "conn = sqlite3.connect('mydatabase.db')\n",
    "cursor = conn.cursor()\n",
    "btable = \"\"\"\n",
    "CREATE TABLE IF NOT EXISTS borrow (\n",
    "    UserID VARCHAR(255) NOT NULL,\n",
    "    BookID VARCHAR(255) NOT NULL,\n",
    "    BorrowDate TEXT NOT NULL DEFAULT CURRENT_DATE,\n",
    "    DueDate TEXT NOT NULL,\n",
    "    PRIMARY KEY (UserID, BookID),\n",
    "    FOREIGN KEY (UserID) REFERENCES user(UserID) ON DELETE CASCADE,\n",
    "    FOREIGN KEY (BookID) REFERENCES book(BookID) ON DELETE CASCADE\n",
    ");\n",
    "\"\"\"\n",
    "cursor.execute(btable)\n",
    "conn.close()"
   ]
  },
  {
   "cell_type": "code",
   "execution_count": 14,
   "id": "35267223",
   "metadata": {},
   "outputs": [],
   "source": [
    "import sqlite3\n",
    "conn = sqlite3.connect('mydatabase.db')\n",
    "cursor = conn.cursor()\n",
    "cursor.execute(\"DROP TABLE borrow\")\n",
    "conn.close()"
   ]
  },
  {
   "cell_type": "code",
   "execution_count": null,
   "id": "62600570",
   "metadata": {},
   "outputs": [],
   "source": [
    "\n"
   ]
  }
 ],
 "metadata": {
  "kernelspec": {
   "display_name": "base",
   "language": "python",
   "name": "python3"
  },
  "language_info": {
   "codemirror_mode": {
    "name": "ipython",
    "version": 3
   },
   "file_extension": ".py",
   "mimetype": "text/x-python",
   "name": "python",
   "nbconvert_exporter": "python",
   "pygments_lexer": "ipython3",
   "version": "3.12.7"
  }
 },
 "nbformat": 4,
 "nbformat_minor": 5
}
