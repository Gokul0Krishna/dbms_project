{
 "cells": [
  {
   "cell_type": "code",
   "execution_count": 48,
   "id": "13048061",
   "metadata": {},
   "outputs": [],
   "source": [
    "import sqlite3\n",
    "conn = sqlite3.connect('mydatabase.db')\n",
    "cursor = conn.cursor()\n",
    "# edu=enduser/table structure\n",
    "edutable=\"\"\" CREATE TABLE user (\n",
    "            Userid VARCHAR(255) NOT NULL PRIMARY KEY,\n",
    "            First_Name CHAR(25) NOT NULL,\n",
    "            Last_Name CHAR(25),\n",
    "            Status INTEGER(25),\n",
    "            Email VARCHAR(255),\n",
    "            Password VARCHAR(255) NOT NULL\n",
    "            ); \"\"\"\n",
    "\n",
    "#creates the table\n",
    "cursor.execute(edutable)\n",
    "cursor.close()\n",
    "conn.close()"
   ]
  },
  {
   "cell_type": "code",
   "execution_count": 47,
   "id": "63525b01",
   "metadata": {},
   "outputs": [],
   "source": [
    "import sqlite3\n",
    "conn = sqlite3.connect('mydatabase.db')\n",
    "cursor = conn.cursor()\n",
    "cursor.execute(\"DROP TABLE user\")\n",
    "conn.close()"
   ]
  },
  {
   "cell_type": "code",
   "execution_count": 20,
   "id": "ac7758d2",
   "metadata": {},
   "outputs": [],
   "source": [
    "import requests\n",
    "\n",
    "response = requests.get(\"https://openlibrary.org/search.json?q=*&sort=rating&limit=100\")\n",
    "data = response.json()"
   ]
  },
  {
   "cell_type": "code",
   "execution_count": 44,
   "id": "bc257fe5",
   "metadata": {},
   "outputs": [],
   "source": [
    "import sqlite3\n",
    "conn = sqlite3.connect('mydatabase.db')\n",
    "cursor = conn.cursor()\n",
    "cursor.execute(\"DROP TABLE book\")\n",
    "conn.close()"
   ]
  },
  {
   "cell_type": "code",
   "execution_count": 45,
   "id": "28c2c1c9",
   "metadata": {},
   "outputs": [],
   "source": [
    "import sqlite3\n",
    "conn = sqlite3.connect('mydatabase.db')\n",
    "cursor = conn.cursor()\n",
    "bktable=\"\"\" CREATE TABLE book (\n",
    "            Bookid VARCHAR(255) NOT NULL PRIMARY KEY,\n",
    "            Title CHAR(25) NOT NULL,\n",
    "            Author CHAR(25),\n",
    "            Status INTEGER(25),\n",
    "            Description TEXT,\n",
    "            Date TEXT\n",
    "            ); \"\"\"\n",
    "\n",
    "#creates the table\n",
    "cursor.execute(bktable)\n",
    "conn.close()"
   ]
  },
  {
   "cell_type": "code",
   "execution_count": null,
   "id": "5bb6db89",
   "metadata": {},
   "outputs": [
    {
     "ename": "KeyError",
     "evalue": "'description'",
     "output_type": "error",
     "traceback": [
      "\u001b[1;31m---------------------------------------------------------------------------\u001b[0m",
      "\u001b[1;31mKeyError\u001b[0m                                  Traceback (most recent call last)",
      "Cell \u001b[1;32mIn[46], line 24\u001b[0m\n\u001b[0;32m     15\u001b[0m data3\u001b[38;5;241m=\u001b[39mdata2[\u001b[38;5;124m'\u001b[39m\u001b[38;5;124mitems\u001b[39m\u001b[38;5;124m'\u001b[39m][\u001b[38;5;241m0\u001b[39m][\u001b[38;5;124m'\u001b[39m\u001b[38;5;124mvolumeInfo\u001b[39m\u001b[38;5;124m'\u001b[39m]\n\u001b[0;32m     16\u001b[0m query \u001b[38;5;241m=\u001b[39m \u001b[38;5;124mf\u001b[39m\u001b[38;5;124m\"\"\"\u001b[39m\u001b[38;5;124mINSERT INTO book \u001b[39m\n\u001b[0;32m     17\u001b[0m \u001b[38;5;124m            (Bookid, Title, Author, Status, Description, Date) \u001b[39m\n\u001b[0;32m     18\u001b[0m \u001b[38;5;124m            VALUES (?, ?, ?, ?, ?, ?)\u001b[39m\u001b[38;5;124m\"\"\"\u001b[39m\n\u001b[0;32m     19\u001b[0m values \u001b[38;5;241m=\u001b[39m (\n\u001b[0;32m     20\u001b[0m \u001b[38;5;124mf\u001b[39m\u001b[38;5;124m'\u001b[39m\u001b[38;5;124mB\u001b[39m\u001b[38;5;132;01m{\u001b[39;00mj\u001b[38;5;132;01m}\u001b[39;00m\u001b[38;5;124m'\u001b[39m, \n\u001b[0;32m     21\u001b[0m i[\u001b[38;5;124m\"\u001b[39m\u001b[38;5;124mtitle\u001b[39m\u001b[38;5;124m\"\u001b[39m], \n\u001b[0;32m     22\u001b[0m data3[\u001b[38;5;124m'\u001b[39m\u001b[38;5;124mauthors\u001b[39m\u001b[38;5;124m'\u001b[39m][\u001b[38;5;241m0\u001b[39m], \n\u001b[0;32m     23\u001b[0m \u001b[38;5;241m0\u001b[39m, \n\u001b[1;32m---> 24\u001b[0m data3[\u001b[38;5;124m'\u001b[39m\u001b[38;5;124mdescription\u001b[39m\u001b[38;5;124m'\u001b[39m],\n\u001b[0;32m     25\u001b[0m data3[\u001b[38;5;124m'\u001b[39m\u001b[38;5;124mpublishedDate\u001b[39m\u001b[38;5;124m'\u001b[39m],\n\u001b[0;32m     26\u001b[0m )\n\u001b[0;32m     27\u001b[0m cursor\u001b[38;5;241m.\u001b[39mexecute(query, values)\n\u001b[0;32m     28\u001b[0m conn\u001b[38;5;241m.\u001b[39mcommit()\n",
      "\u001b[1;31mKeyError\u001b[0m: 'description'"
     ]
    }
   ],
   "source": [
    "import requests\n",
    "import sqlite3\n",
    "from dotenv import load_dotenv\n",
    "import os\n",
    "APIKEY = os.getenv(\"API_KEY\")\n",
    "\n",
    "conn = sqlite3.connect('mydatabase.db')\n",
    "cursor = conn.cursor()\n",
    "\n",
    "j=0\n",
    "for  i in data[\"docs\"]:\n",
    "    params = {\n",
    "        \"q\": i[\"title\"], \n",
    "        \"key\":APIKEY,\n",
    "    }\n",
    "    response = requests.get(\"https://www.googleapis.com/books/v1/volumes\",params=params)\n",
    "    response.raise_for_status()\n",
    "    data2 = response.json()\n",
    "    data3=data2['items'][0]['volumeInfo']\n",
    "    query = f\"\"\"INSERT INTO book \n",
    "                (Bookid, Title, Author, Status, Description, Date) \n",
    "                VALUES (?, ?, ?, ?, ?, ?)\"\"\"\n",
    "    values = (\n",
    "    f'B{j}', \n",
    "    i[\"title\"], \n",
    "    data3['authors'][0], \n",
    "    0, \n",
    "    data3['description'],\n",
    "    data3['publishedDate'],\n",
    "    )\n",
    "    cursor.execute(query, values)\n",
    "    conn.commit()\n",
    "    j=j+1\n",
    "conn.close()\n",
    "    "
   ]
  },
  {
   "cell_type": "code",
   "execution_count": 40,
   "id": "520710e8",
   "metadata": {},
   "outputs": [
    {
     "data": {
      "text/plain": [
       "{'title': 'Night Owls',\n",
       " 'authors': ['Jenn Bennett'],\n",
       " 'publisher': 'Simon and Schuster',\n",
       " 'publishedDate': '2015-08-13',\n",
       " 'description': \"RITA Award for Best Young Adult Romance Feeling alive is always worth the risk... Meeting Jack on the Owl - San Francisco's night bus - turns Beatrix's world upside down. Jack is charming, wildly attractive . . . and possibly one of San Francisco's most notorious graffiti artists. On midnight rides and city rooftops, Beatrix begins to see who this enigmatic boy really is. But Jack is hiding much more - and can she uncover the truth that leaves him so wounded? A unique and profoundly moving novel, Night Owls will linger in your memory long after the final page. Praise for Night Owls “Take a contemporary San Francisco, add an undertone of classic Romeo and Juliet, some grit and viscera, and this story of two remarkable teens is the result…A thought-provoking exploration of art as an expression of love and pain.” Kirkus Reviews “An appealingly realistic romance that will curl toes and inspire sighs.” School Library Journal “Artsy, cool and everything you want a San Francisco adventure to be. Get ready to be swept away.” Maximum Pop “Fans of contemporary YA are sure to be won over with this compelling read.” Buzzfeed “Fresh, original, touching, addictive, beautiful, and crammed cover to cover with the white-hot intensity of first love.” Ann Aguirre, New York Times & USA Today bestselling author of the Razorland trilogy “If we could order up our dream young adult love story, it would look very much like Night Owls.”—iBooks’ Editors (one of iBooks UK Best Books of the Month for August 2015, iBooks US Best Books of the Month November 2015)\",\n",
       " 'industryIdentifiers': [{'type': 'ISBN_13', 'identifier': '9781471125317'},\n",
       "  {'type': 'ISBN_10', 'identifier': '1471125319'}],\n",
       " 'readingModes': {'text': True, 'image': False},\n",
       " 'pageCount': 266,\n",
       " 'printType': 'BOOK',\n",
       " 'categories': ['Juvenile Fiction'],\n",
       " 'maturityRating': 'NOT_MATURE',\n",
       " 'allowAnonLogging': True,\n",
       " 'contentVersion': '1.15.10.0.preview.2',\n",
       " 'panelizationSummary': {'containsEpubBubbles': False,\n",
       "  'containsImageBubbles': False},\n",
       " 'imageLinks': {'smallThumbnail': 'http://books.google.com/books/content?id=06ydBAAAQBAJ&printsec=frontcover&img=1&zoom=5&edge=curl&source=gbs_api',\n",
       "  'thumbnail': 'http://books.google.com/books/content?id=06ydBAAAQBAJ&printsec=frontcover&img=1&zoom=1&edge=curl&source=gbs_api'},\n",
       " 'language': 'en',\n",
       " 'previewLink': 'http://books.google.co.in/books?id=06ydBAAAQBAJ&printsec=frontcover&dq=Night+Owl&hl=&cd=1&source=gbs_api',\n",
       " 'infoLink': 'http://books.google.co.in/books?id=06ydBAAAQBAJ&dq=Night+Owl&hl=&source=gbs_api',\n",
       " 'canonicalVolumeLink': 'https://books.google.com/books/about/Night_Owls.html?hl=&id=06ydBAAAQBAJ'}"
      ]
     },
     "execution_count": 40,
     "metadata": {},
     "output_type": "execute_result"
    }
   ],
   "source": [
    "data3\n",
    "\n",
    "# data2\n"
   ]
  }
 ],
 "metadata": {
  "kernelspec": {
   "display_name": "base",
   "language": "python",
   "name": "python3"
  },
  "language_info": {
   "codemirror_mode": {
    "name": "ipython",
    "version": 3
   },
   "file_extension": ".py",
   "mimetype": "text/x-python",
   "name": "python",
   "nbconvert_exporter": "python",
   "pygments_lexer": "ipython3",
   "version": "3.12.7"
  }
 },
 "nbformat": 4,
 "nbformat_minor": 5
}
